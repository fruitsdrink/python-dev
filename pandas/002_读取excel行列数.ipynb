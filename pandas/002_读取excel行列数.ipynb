{
 "cells": [
  {
   "cell_type": "markdown",
   "metadata": {},
   "source": [
    "shape 属性包含sheet的数据区的行数(不包括列头的行)和列数"
   ]
  },
  {
   "cell_type": "code",
   "execution_count": 7,
   "metadata": {},
   "outputs": [
    {
     "name": "stdout",
     "output_type": "stream",
     "text": [
      "(3, 2)\n",
      "Index(['ID', 'Name'], dtype='object')\n",
      "   ID Name\n",
      "0   1   李四\n",
      "1   2   王五\n",
      "2   3   赵六\n",
      "   ID Name\n",
      "0   1   李四\n",
      "1   2   王五\n",
      "   ID Name\n",
      "0   1   李四\n",
      "1   2   王五\n",
      "2   3   赵六\n",
      "   ID Name\n",
      "1   2   王五\n",
      "2   3   赵六\n"
     ]
    }
   ],
   "source": [
    "import pandas as pd\n",
    "\n",
    "excel = pd.read_excel('./output/hello_pandas.xlsx')\n",
    "\n",
    "# 行数 列数\n",
    "print(excel.shape)\n",
    "\n",
    "# 列头信息\n",
    "print(excel.columns)\n",
    "\n",
    "# 行头信息, head不会输出所有行的数据，只会返回前5行，包括列头\n",
    "print(excel.head())\n",
    "print(excel.head(2))\n",
    "\n",
    "# 打印行尾数据\n",
    "print(excel.tail())\n",
    "print(excel.tail(2))"
   ]
  }
 ],
 "metadata": {
  "kernelspec": {
   "display_name": "Python 3",
   "language": "python",
   "name": "python3"
  },
  "language_info": {
   "codemirror_mode": {
    "name": "ipython",
    "version": 3
   },
   "file_extension": ".py",
   "mimetype": "text/x-python",
   "name": "python",
   "nbconvert_exporter": "python",
   "pygments_lexer": "ipython3",
   "version": "3.11.9"
  }
 },
 "nbformat": 4,
 "nbformat_minor": 2
}
