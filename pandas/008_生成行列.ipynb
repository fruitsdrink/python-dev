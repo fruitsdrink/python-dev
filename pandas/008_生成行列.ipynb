{
 "cells": [
  {
   "cell_type": "markdown",
   "metadata": {},
   "source": [
    "pandas 中的行和列可以是 Series\n",
    "Series只有加到 dataframe后才确定是行还是列"
   ]
  },
  {
   "cell_type": "code",
   "execution_count": 3,
   "metadata": {},
   "outputs": [
    {
     "name": "stdout",
     "output_type": "stream",
     "text": [
      "None\n",
      "RangeIndex(start=0, stop=0, step=1)\n",
      "a    0.0\n",
      "b    1.0\n",
      "c    2.0\n",
      "dtype: float64\n",
      "None\n",
      "Index(['a', 'b', 'c'], dtype='object')\n"
     ]
    }
   ],
   "source": [
    "import pandas as pd\n",
    "\n",
    "# 生成一个序列\n",
    "s1 = pd.Series()\n",
    "\n",
    "print(s1.name)\n",
    "print(s1.index)\n",
    "\n"
   ]
  },
  {
   "cell_type": "code",
   "execution_count": 5,
   "metadata": {},
   "outputs": [
    {
     "name": "stdout",
     "output_type": "stream",
     "text": [
      "a    0.0\n",
      "b    1.0\n",
      "c    2.0\n",
      "dtype: float64\n",
      "None\n",
      "Index(['a', 'b', 'c'], dtype='object')\n",
      "[0. 1. 2.]\n"
     ]
    }
   ],
   "source": [
    "# 字典转换为Series\n",
    "# key为索引，value为值\n",
    "d = {'a': 0., 'b': 1., 'c': 2.}\n",
    "s2 = pd.Series(d)\n",
    "print(s2)\n",
    "print(s2.name)\n",
    "print(s2.index)\n",
    "print(s2.values)"
   ]
  },
  {
   "cell_type": "code",
   "execution_count": 6,
   "metadata": {},
   "outputs": [
    {
     "name": "stdout",
     "output_type": "stream",
     "text": [
      "a    1\n",
      "b    3\n",
      "c    5\n",
      "d    7\n",
      "e    9\n",
      "dtype: int64\n"
     ]
    }
   ],
   "source": [
    "# List 转为 Series\n",
    "l1 = [1, 3, 5, 7, 9]\n",
    "l2 = ['a', 'b', 'c', 'd', 'e']\n",
    "\n",
    "s3 = pd.Series(l1, index=l2)\n",
    "print(s3)"
   ]
  },
  {
   "cell_type": "code",
   "execution_count": 7,
   "metadata": {},
   "outputs": [
    {
     "name": "stdout",
     "output_type": "stream",
     "text": [
      "   A   B    C\n",
      "1  1  10  100\n",
      "2  2  20  200\n",
      "3  3  30  300\n"
     ]
    }
   ],
   "source": [
    "# Series 已字典的形式加入到DataFrame中, series 为列\n",
    "\n",
    "# index 代表行号 name为列名\n",
    "s1 = pd.Series([1,2,3], index=[1,2,3],name='A')\n",
    "s2 = pd.Series([10,20,30], index=[1,2,3],name='B')\n",
    "s3 = pd.Series([100,200,300], index=[1,2,3],name='C')\n",
    "\n",
    "# 将s1 s2 s3 已字典的形式 加到DataFrame中，s1，s2,s3 为列\n",
    "df = pd.DataFrame({s1.name:s1, s2.name: s2, s3.name: s3})\n",
    "print(df)"
   ]
  },
  {
   "cell_type": "code",
   "execution_count": 8,
   "metadata": {},
   "outputs": [
    {
     "name": "stdout",
     "output_type": "stream",
     "text": [
      "     1    2    3\n",
      "A    1    2    3\n",
      "B   10   20   30\n",
      "C  100  200  300\n"
     ]
    }
   ],
   "source": [
    "# Series 已List的形式加入到DataFrame中, series 为行\n",
    "\n",
    "df = pd.DataFrame([s1, s2, s3])\n",
    "print(df)"
   ]
  },
  {
   "cell_type": "code",
   "execution_count": 9,
   "metadata": {},
   "outputs": [
    {
     "name": "stdout",
     "output_type": "stream",
     "text": [
      "     A     B      C\n",
      "1  1.0  10.0    NaN\n",
      "2  2.0  20.0  100.0\n",
      "3  3.0  30.0  200.0\n",
      "4  NaN   NaN  300.0\n"
     ]
    }
   ],
   "source": [
    "# index 没有对齐的情况\n",
    "s1 = pd.Series([1,2,3], index=[1,2,3],name='A')\n",
    "s2 = pd.Series([10,20,30], index=[1,2,3],name='B')\n",
    "s3 = pd.Series([100,200,300], index=[2,3,4],name='C')\n",
    "\n",
    "# 将s1 s2 s3 已字典的形式 加到DataFrame中，s1，s2,s3 为列\n",
    "df = pd.DataFrame({s1.name:s1, s2.name: s2, s3.name: s3})\n",
    "print(df)"
   ]
  },
  {
   "cell_type": "code",
   "execution_count": null,
   "metadata": {},
   "outputs": [],
   "source": []
  }
 ],
 "metadata": {
  "kernelspec": {
   "display_name": "Python 3",
   "language": "python",
   "name": "python3"
  },
  "language_info": {
   "codemirror_mode": {
    "name": "ipython",
    "version": 3
   },
   "file_extension": ".py",
   "mimetype": "text/x-python",
   "name": "python",
   "nbconvert_exporter": "python",
   "pygments_lexer": "ipython3",
   "version": "3.11.9"
  }
 },
 "nbformat": 4,
 "nbformat_minor": 2
}
