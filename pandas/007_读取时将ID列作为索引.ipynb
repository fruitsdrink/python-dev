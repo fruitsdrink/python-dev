{
 "cells": [
  {
   "cell_type": "code",
   "execution_count": 3,
   "metadata": {},
   "outputs": [
    {
     "name": "stdout",
     "output_type": "stream",
     "text": [
      "Index(['Name'], dtype='object')\n",
      "   Name\n",
      "ID     \n",
      "1    李四\n",
      "2    王五\n",
      "3    赵六\n"
     ]
    }
   ],
   "source": [
    "import pandas as pd\n",
    "\n",
    "df = pd.read_excel('./output/output_006.xlsx', index_col='ID')\n",
    "print(df.columns)\n",
    "print(df.head())\n",
    "\n",
    "df.to_excel('./output/output_007.xlsx')\n",
    "df.to_excel('./output/output_007_noindex.xlsx', index=False)\n"
   ]
  }
 ],
 "metadata": {
  "kernelspec": {
   "display_name": "Python 3",
   "language": "python",
   "name": "python3"
  },
  "language_info": {
   "codemirror_mode": {
    "name": "ipython",
    "version": 3
   },
   "file_extension": ".py",
   "mimetype": "text/x-python",
   "name": "python",
   "nbconvert_exporter": "python",
   "pygments_lexer": "ipython3",
   "version": "3.11.9"
  }
 },
 "nbformat": 4,
 "nbformat_minor": 2
}
