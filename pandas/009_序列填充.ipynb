{
 "cells": [
  {
   "cell_type": "code",
   "execution_count": 17,
   "metadata": {},
   "outputs": [
    {
     "name": "stdout",
     "output_type": "stream",
     "text": [
      "     ID      Name InStore Date\n",
      "0   NaN  Book_001     NaN  NaN\n",
      "1   NaN  Book_002     NaN  NaN\n",
      "2   NaN  Book_003     NaN  NaN\n",
      "3   NaN  Book_004     NaN  NaN\n",
      "4   NaN  Book_005     NaN  NaN\n",
      "5   NaN  Book_006     NaN  NaN\n",
      "6   NaN  Book_007     NaN  NaN\n",
      "7   NaN  Book_008     NaN  NaN\n",
      "8   NaN  Book_009     NaN  NaN\n",
      "9   NaN  Book_010     NaN  NaN\n",
      "10  NaN  Book_011     NaN  NaN\n",
      "11  NaN  Book_012     NaN  NaN\n",
      "12  NaN  Book_013     NaN  NaN\n",
      "13  NaN  Book_014     NaN  NaN\n",
      "14  NaN  Book_015     NaN  NaN\n",
      "15  NaN  Book_016     NaN  NaN\n",
      "16  NaN  Book_017     NaN  NaN\n",
      "17  NaN  Book_018     NaN  NaN\n",
      "18  NaN  Book_019     NaN  NaN\n",
      "19  NaN  Book_020     NaN  NaN\n"
     ]
    }
   ],
   "source": [
    "import pandas as pd\n",
    "\n",
    "# 参数 skipRows 指定跳过前几行\n",
    "# 参数 usecols 指定读取哪几列\n",
    "# books = pd.read_excel('./output/input_009.xlsx', skiprows=7, usecols=\"D,E,F,G\")\n",
    "# 因为要自动填充ID列，所以设置index_col为None\n",
    "books = pd.read_excel('./output/input_009.xlsx', skiprows=7, usecols=\"D:G\",index_col=None, dtype={\"ID\":str, \"InStore\": str, \"Date\": str})\n",
    "\n",
    "print(books)\n"
   ]
  },
  {
   "cell_type": "code",
   "execution_count": 26,
   "metadata": {},
   "outputs": [
    {
     "name": "stdout",
     "output_type": "stream",
     "text": [
      "    ID      Name InStore        Date\n",
      "0    1  Book_001     Yes  2018-01-01\n",
      "1    2  Book_002      No  2018-02-01\n",
      "2    3  Book_003     Yes  2018-03-01\n",
      "3    4  Book_004      No  2018-04-01\n",
      "4    5  Book_005     Yes  2018-05-01\n",
      "5    6  Book_006      No  2018-06-01\n",
      "6    7  Book_007     Yes  2018-07-01\n",
      "7    8  Book_008      No  2018-08-01\n",
      "8    9  Book_009     Yes  2018-09-01\n",
      "9   10  Book_010      No  2018-10-01\n",
      "10  11  Book_011     Yes  2018-11-01\n",
      "11  12  Book_012      No  2018-12-01\n",
      "12  13  Book_013     Yes  2019-01-01\n",
      "13  14  Book_014      No  2019-02-01\n",
      "14  15  Book_015     Yes  2019-03-01\n",
      "15  16  Book_016      No  2019-04-01\n",
      "16  17  Book_017     Yes  2019-05-01\n",
      "17  18  Book_018      No  2019-06-01\n",
      "18  19  Book_019     Yes  2019-07-01\n",
      "19  20  Book_020      No  2019-08-01\n"
     ]
    }
   ],
   "source": [
    "# 循环的方法设置列的值\n",
    "from datetime import date, timedelta\n",
    "\n",
    "startDate = date(2018,1,1)\n",
    "\n",
    "def add_month(d,md):\n",
    "  yd = md // 12\n",
    "  m = d.month + md % 12\n",
    "  if m != 12:\n",
    "    yd += m //12\n",
    "    m = m % 12\n",
    "  return date(d.year + yd, m, d.day)\n",
    "\n",
    "\n",
    "for i in books.index:\n",
    "  books['ID'].at[i] = i+1\n",
    "  books[\"InStore\"].at[i] = \"Yes\" if i % 2 == 0 else 'No'\n",
    "  # books['Date'].at[i] = startDate + timedelta(days=i)\n",
    "  # books['Date'].at[i] = date(startDate.year +i, startDate.month, startDate.day)\n",
    "  books['Date'].at[i] = add_month(startDate, i)\n",
    "\n",
    "\n",
    "print(books)\n",
    "\n",
    "books.to_excel('./output/output_009.xlsx', index=False)"
   ]
  },
  {
   "cell_type": "code",
   "execution_count": 27,
   "metadata": {},
   "outputs": [
    {
     "name": "stdout",
     "output_type": "stream",
     "text": [
      "    ID      Name InStore        Date\n",
      "0    1  Book_001     Yes  2018-01-01\n",
      "1    2  Book_002      No  2018-02-01\n",
      "2    3  Book_003     Yes  2018-03-01\n",
      "3    4  Book_004      No  2018-04-01\n",
      "4    5  Book_005     Yes  2018-05-01\n",
      "5    6  Book_006      No  2018-06-01\n",
      "6    7  Book_007     Yes  2018-07-01\n",
      "7    8  Book_008      No  2018-08-01\n",
      "8    9  Book_009     Yes  2018-09-01\n",
      "9   10  Book_010      No  2018-10-01\n",
      "10  11  Book_011     Yes  2018-11-01\n",
      "11  12  Book_012      No  2018-12-01\n",
      "12  13  Book_013     Yes  2019-01-01\n",
      "13  14  Book_014      No  2019-02-01\n",
      "14  15  Book_015     Yes  2019-03-01\n",
      "15  16  Book_016      No  2019-04-01\n",
      "16  17  Book_017     Yes  2019-05-01\n",
      "17  18  Book_018      No  2019-06-01\n",
      "18  19  Book_019     Yes  2019-07-01\n",
      "19  20  Book_020      No  2019-08-01\n"
     ]
    }
   ],
   "source": [
    "# 使用DataFrame直接修改单元格的值\n",
    "for i in books.index:\n",
    "  books.at[i, 'ID'] = i+1\n",
    "  books.at[i, \"InStore\"] = \"Yes\" if i % 2 == 0 else 'No'\n",
    "  books.at[i, 'Date'] = add_month(startDate, i)\n",
    "\n",
    "print(books)"
   ]
  }
 ],
 "metadata": {
  "kernelspec": {
   "display_name": "Python 3",
   "language": "python",
   "name": "python3"
  },
  "language_info": {
   "codemirror_mode": {
    "name": "ipython",
    "version": 3
   },
   "file_extension": ".py",
   "mimetype": "text/x-python",
   "name": "python",
   "nbconvert_exporter": "python",
   "pygments_lexer": "ipython3",
   "version": "3.11.9"
  }
 },
 "nbformat": 4,
 "nbformat_minor": 2
}
