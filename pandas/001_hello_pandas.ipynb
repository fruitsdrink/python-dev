{
 "cells": [
  {
   "cell_type": "code",
   "execution_count": 8,
   "metadata": {},
   "outputs": [
    {
     "name": "stdout",
     "output_type": "stream",
     "text": [
      "   Name\n",
      "ID     \n",
      "1    李四\n",
      "2    王五\n",
      "3    赵六\n",
      "Done!\n"
     ]
    }
   ],
   "source": [
    "import pandas as pd\n",
    "\n",
    "# 写入数据\n",
    "# 第一列标题为 ID，数据为 1 2 3\n",
    "# 第二列标题为 Name, 数据为 李四 王五 赵六\n",
    "df = pd.DataFrame({'ID': [1,2,3], 'Name': ['李四','王五','赵六']})\n",
    "\n",
    "# 将 ID 列设置为索引，to_excel 时不需要配置index=False\n",
    "df = df.set_index('ID')\n",
    "print(df)\n",
    "# df.to_excel('./output/hello_pandas.xlsx', index= False)\n",
    "df.to_excel('./output/hello_pandas.xlsx')\n",
    "\n",
    "print('Done!')"
   ]
  }
 ],
 "metadata": {
  "kernelspec": {
   "display_name": "Python 3",
   "language": "python",
   "name": "python3"
  },
  "language_info": {
   "codemirror_mode": {
    "name": "ipython",
    "version": 3
   },
   "file_extension": ".py",
   "mimetype": "text/x-python",
   "name": "python",
   "nbconvert_exporter": "python",
   "pygments_lexer": "ipython3",
   "version": "3.11.9"
  }
 },
 "nbformat": 4,
 "nbformat_minor": 2
}
