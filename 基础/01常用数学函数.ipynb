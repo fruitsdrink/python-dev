{
 "cells": [
  {
   "cell_type": "code",
   "id": "initial_id",
   "metadata": {
    "collapsed": true,
    "ExecuteTime": {
     "end_time": "2024-05-10T12:05:01.464747Z",
     "start_time": "2024-05-10T12:05:01.460904Z"
    }
   },
   "source": "import math",
   "outputs": [],
   "execution_count": 1
  },
  {
   "metadata": {},
   "cell_type": "markdown",
   "source": [
    "- round 四舍五入\n",
    "- ceil 无条件进位\n",
    "- floor 无条件舍去 "
   ],
   "id": "21e00c2a5e68da5d"
  },
  {
   "metadata": {
    "ExecuteTime": {
     "end_time": "2024-05-10T12:05:01.470256Z",
     "start_time": "2024-05-10T12:05:01.465752Z"
    }
   },
   "cell_type": "code",
   "source": [
    "x = 9.5\n",
    "print(round(x))\n",
    "print(math.ceil(x))\n",
    "print(math.floor(x))"
   ],
   "id": "e03e5b5fd6d9e1a",
   "outputs": [
    {
     "name": "stdout",
     "output_type": "stream",
     "text": [
      "10\n",
      "10\n",
      "9\n"
     ]
    }
   ],
   "execution_count": 2
  },
  {
   "metadata": {},
   "cell_type": "markdown",
   "source": "圆周率",
   "id": "8c5b3df8f7bd3b8f"
  },
  {
   "metadata": {
    "ExecuteTime": {
     "end_time": "2024-05-10T12:05:01.474060Z",
     "start_time": "2024-05-10T12:05:01.471263Z"
    }
   },
   "cell_type": "code",
   "source": "print(math.pi)",
   "id": "8934eda66d0d37ed",
   "outputs": [
    {
     "name": "stdout",
     "output_type": "stream",
     "text": [
      "3.141592653589793\n"
     ]
    }
   ],
   "execution_count": 3
  },
  {
   "metadata": {},
   "cell_type": "markdown",
   "source": "计算元的周长",
   "id": "2280252db43cee13"
  },
  {
   "metadata": {
    "ExecuteTime": {
     "end_time": "2024-05-10T12:07:40.771421Z",
     "start_time": "2024-05-10T12:07:36.670184Z"
    }
   },
   "cell_type": "code",
   "source": [
    "radius = float(input(\"请输入圆的半径\"))\n",
    "c = 2 * math.pi * radius\n",
    "print(f\"圆的周长是{round(c,2)}\")"
   ],
   "id": "426379a10a059929",
   "outputs": [
    {
     "name": "stdout",
     "output_type": "stream",
     "text": [
      "圆的周长是62.83\n"
     ]
    }
   ],
   "execution_count": 5
  },
  {
   "metadata": {},
   "cell_type": "markdown",
   "source": "计算圆的面积",
   "id": "5bd4962410d18ecc"
  },
  {
   "metadata": {
    "ExecuteTime": {
     "end_time": "2024-05-10T12:09:36.260895Z",
     "start_time": "2024-05-10T12:09:32.988173Z"
    }
   },
   "cell_type": "code",
   "source": [
    "radius = float(input(\"请输入圆的半径\"))\n",
    "c = math.pi * (radius ** 2)\n",
    "print(f\"圆的面积：{round(c,2)}\")"
   ],
   "id": "d1cf0cd7a027a0e9",
   "outputs": [
    {
     "name": "stdout",
     "output_type": "stream",
     "text": [
      "圆的面积：314.16\n"
     ]
    }
   ],
   "execution_count": 6
  },
  {
   "metadata": {},
   "cell_type": "code",
   "outputs": [],
   "execution_count": null,
   "source": "",
   "id": "9ebc1f5136b29bf"
  }
 ],
 "metadata": {
  "kernelspec": {
   "display_name": "Python 3",
   "language": "python",
   "name": "python3"
  },
  "language_info": {
   "codemirror_mode": {
    "name": "ipython",
    "version": 2
   },
   "file_extension": ".py",
   "mimetype": "text/x-python",
   "name": "python",
   "nbconvert_exporter": "python",
   "pygments_lexer": "ipython2",
   "version": "2.7.6"
  }
 },
 "nbformat": 4,
 "nbformat_minor": 5
}
