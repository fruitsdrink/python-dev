{
 "cells": [
  {
   "cell_type": "code",
   "id": "initial_id",
   "metadata": {
    "collapsed": true,
    "ExecuteTime": {
     "end_time": "2024-05-10T13:27:41.907809Z",
     "start_time": "2024-05-10T13:27:31.313497Z"
    }
   },
   "source": [
    "import time\n",
    "\n",
    "my_time = int(input(\"请输入秒数：\"))\n",
    "\n",
    "for x in range(my_time,0,-1):\n",
    "    seconds = x % 60\n",
    "    minutes = x // 60 % 60\n",
    "    print(f\"{minutes:02}:{seconds:02}\", end=\"\\r\", flush=True)\n",
    "    time.sleep(1)\n",
    "\n",
    "print(\"时间到了!!!\")"
   ],
   "outputs": [
    {
     "name": "stdout",
     "output_type": "stream",
     "text": [
      "时间到了!!!\n"
     ]
    }
   ],
   "execution_count": 17
  }
 ],
 "metadata": {
  "kernelspec": {
   "display_name": "Python 3",
   "language": "python",
   "name": "python3"
  },
  "language_info": {
   "codemirror_mode": {
    "name": "ipython",
    "version": 2
   },
   "file_extension": ".py",
   "mimetype": "text/x-python",
   "name": "python",
   "nbconvert_exporter": "python",
   "pygments_lexer": "ipython2",
   "version": "2.7.6"
  }
 },
 "nbformat": 4,
 "nbformat_minor": 5
}
