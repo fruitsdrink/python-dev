{
 "cells": [
  {
   "metadata": {},
   "cell_type": "markdown",
   "source": "显式转换",
   "id": "c28436f42bc235e"
  },
  {
   "cell_type": "code",
   "id": "initial_id",
   "metadata": {
    "collapsed": true,
    "ExecuteTime": {
     "end_time": "2024-05-10T12:14:31.196158Z",
     "start_time": "2024-05-10T12:14:31.192329Z"
    }
   },
   "source": [
    "x = 3.9\n",
    "\n",
    "print(type(x))\n",
    "print(int(x))\n",
    "print(float(x))\n",
    "\n",
    "print(str(True))\n"
   ],
   "outputs": [
    {
     "name": "stdout",
     "output_type": "stream",
     "text": [
      "<class 'float'>\n",
      "3\n",
      "3.9\n",
      "True\n"
     ]
    }
   ],
   "execution_count": 2
  },
  {
   "metadata": {},
   "cell_type": "markdown",
   "source": "",
   "id": "9b07ded91b544800"
  }
 ],
 "metadata": {
  "kernelspec": {
   "display_name": "Python 3",
   "language": "python",
   "name": "python3"
  },
  "language_info": {
   "codemirror_mode": {
    "name": "ipython",
    "version": 2
   },
   "file_extension": ".py",
   "mimetype": "text/x-python",
   "name": "python",
   "nbconvert_exporter": "python",
   "pygments_lexer": "ipython2",
   "version": "2.7.6"
  }
 },
 "nbformat": 4,
 "nbformat_minor": 5
}
