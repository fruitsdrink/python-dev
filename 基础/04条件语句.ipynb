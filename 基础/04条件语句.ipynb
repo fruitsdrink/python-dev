{
 "cells": [
  {
   "metadata": {},
   "cell_type": "markdown",
   "source": "elif 相当于 else if",
   "id": "e7121ff6520a1395"
  },
  {
   "metadata": {
    "ExecuteTime": {
     "end_time": "2024-05-10T12:18:09.717156Z",
     "start_time": "2024-05-10T12:18:09.712189Z"
    }
   },
   "cell_type": "code",
   "source": [
    "if_sale = True\n",
    "\n",
    "if if_sale:\n",
    "    print(\"正在出售\")\n",
    "else:\n",
    "    print(\"未出售\")"
   ],
   "id": "674924012a2e2f2b",
   "outputs": [
    {
     "name": "stdout",
     "output_type": "stream",
     "text": [
      "正在出售\n"
     ]
    }
   ],
   "execution_count": 1
  },
  {
   "metadata": {},
   "cell_type": "markdown",
   "source": "",
   "id": "c817f12f67b04d27"
  }
 ],
 "metadata": {
  "kernelspec": {
   "display_name": "Python 3",
   "language": "python",
   "name": "python3"
  },
  "language_info": {
   "codemirror_mode": {
    "name": "ipython",
    "version": 2
   },
   "file_extension": ".py",
   "mimetype": "text/x-python",
   "name": "python",
   "nbconvert_exporter": "python",
   "pygments_lexer": "ipython2",
   "version": "2.7.6"
  }
 },
 "nbformat": 4,
 "nbformat_minor": 5
}
