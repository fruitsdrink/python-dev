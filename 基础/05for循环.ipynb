{
 "cells": [
  {
   "metadata": {},
   "cell_type": "markdown",
   "source": "range 不包括最后一个数字",
   "id": "999ac50ac3c1ccf3"
  },
  {
   "cell_type": "code",
   "id": "initial_id",
   "metadata": {
    "collapsed": true,
    "ExecuteTime": {
     "end_time": "2024-05-10T13:06:26.273589Z",
     "start_time": "2024-05-10T13:06:26.268648Z"
    }
   },
   "source": [
    "for x in range(1,11):\n",
    "    print(x)"
   ],
   "outputs": [
    {
     "name": "stdout",
     "output_type": "stream",
     "text": [
      "1\n",
      "2\n",
      "3\n",
      "4\n",
      "5\n",
      "6\n",
      "7\n",
      "8\n",
      "9\n",
      "10\n"
     ]
    }
   ],
   "execution_count": 1
  },
  {
   "metadata": {},
   "cell_type": "markdown",
   "source": "reversed 倒序",
   "id": "40415353c1758570"
  },
  {
   "metadata": {
    "ExecuteTime": {
     "end_time": "2024-05-10T13:07:31.221820Z",
     "start_time": "2024-05-10T13:07:31.218327Z"
    }
   },
   "cell_type": "code",
   "source": "for x in reversed(range(1,11)): print(x)",
   "id": "37ffa24f44ae8d1d",
   "outputs": [
    {
     "name": "stdout",
     "output_type": "stream",
     "text": [
      "10\n",
      "9\n",
      "8\n",
      "7\n",
      "6\n",
      "5\n",
      "4\n",
      "3\n",
      "2\n",
      "1\n"
     ]
    }
   ],
   "execution_count": 2
  },
  {
   "metadata": {},
   "cell_type": "markdown",
   "source": "循环打印字符串的字符",
   "id": "d224568adaeb72b3"
  },
  {
   "metadata": {
    "ExecuteTime": {
     "end_time": "2024-05-10T13:08:28.364399Z",
     "start_time": "2024-05-10T13:08:28.361229Z"
    }
   },
   "cell_type": "code",
   "source": [
    "card = \"1234-5678-9991\"\n",
    "for x in card:\n",
    "    print(x)"
   ],
   "id": "f5261508e32b7612",
   "outputs": [
    {
     "name": "stdout",
     "output_type": "stream",
     "text": [
      "1\n",
      "2\n",
      "3\n",
      "4\n",
      "-\n",
      "5\n",
      "6\n",
      "7\n",
      "8\n",
      "-\n",
      "9\n",
      "9\n",
      "9\n",
      "1\n"
     ]
    }
   ],
   "execution_count": 3
  },
  {
   "metadata": {},
   "cell_type": "markdown",
   "source": "循环字典",
   "id": "16d48e839013c19d"
  },
  {
   "metadata": {
    "ExecuteTime": {
     "end_time": "2024-05-10T13:13:11.169823Z",
     "start_time": "2024-05-10T13:13:11.166815Z"
    }
   },
   "cell_type": "code",
   "source": [
    "my_dict = {\"a\":1, \"b\":2, \"c\":3, \"d\":4, \"e\":5}\n",
    "for x in my_dict:\n",
    "    print(x, my_dict[x], end=\" \")"
   ],
   "id": "bacafadeeb98d944",
   "outputs": [
    {
     "name": "stdout",
     "output_type": "stream",
     "text": [
      "a 1 b 2 c 3 d 4 e 5 "
     ]
    }
   ],
   "execution_count": 9
  },
  {
   "metadata": {
    "ExecuteTime": {
     "end_time": "2024-05-10T13:11:26.250304Z",
     "start_time": "2024-05-10T13:11:26.247558Z"
    }
   },
   "cell_type": "code",
   "source": [
    "for key, value in my_dict.items():\n",
    "    print(key, value)"
   ],
   "id": "47d910aa34be9837",
   "outputs": [
    {
     "name": "stdout",
     "output_type": "stream",
     "text": [
      "a 1\n",
      "b 2\n",
      "c 3\n",
      "d 4\n",
      "e 5\n"
     ]
    }
   ],
   "execution_count": 8
  },
  {
   "metadata": {},
   "cell_type": "code",
   "outputs": [],
   "execution_count": null,
   "source": "",
   "id": "191f4bba6e264d7a"
  }
 ],
 "metadata": {
  "kernelspec": {
   "display_name": "Python 3",
   "language": "python",
   "name": "python3"
  },
  "language_info": {
   "codemirror_mode": {
    "name": "ipython",
    "version": 2
   },
   "file_extension": ".py",
   "mimetype": "text/x-python",
   "name": "python",
   "nbconvert_exporter": "python",
   "pygments_lexer": "ipython2",
   "version": "2.7.6"
  }
 },
 "nbformat": 4,
 "nbformat_minor": 5
}
