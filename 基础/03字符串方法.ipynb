{
 "cells": [
  {
   "cell_type": "code",
   "id": "initial_id",
   "metadata": {
    "collapsed": true,
    "ExecuteTime": {
     "end_time": "2024-05-10T12:24:32.293566Z",
     "start_time": "2024-05-10T12:24:32.290132Z"
    }
   },
   "source": "name = \"helloworld你好世界\"",
   "outputs": [],
   "execution_count": 2
  },
  {
   "metadata": {},
   "cell_type": "markdown",
   "source": "字符串长度的获取，一个汉字的长度是1",
   "id": "59bdcc8f48b2a7bc"
  },
  {
   "metadata": {
    "ExecuteTime": {
     "end_time": "2024-05-10T12:24:37.620209Z",
     "start_time": "2024-05-10T12:24:37.616748Z"
    }
   },
   "cell_type": "code",
   "source": "print(len(name))",
   "id": "64554d6f5b1fe693",
   "outputs": [
    {
     "name": "stdout",
     "output_type": "stream",
     "text": [
      "14\n"
     ]
    }
   ],
   "execution_count": 3
  },
  {
   "metadata": {},
   "cell_type": "markdown",
   "source": "查找字符串位置",
   "id": "c55c84616b548684"
  },
  {
   "metadata": {
    "ExecuteTime": {
     "end_time": "2024-05-10T12:26:29.515996Z",
     "start_time": "2024-05-10T12:26:29.512692Z"
    }
   },
   "cell_type": "code",
   "source": "print(name.find(\"w\"))",
   "id": "998a1d2b52aad3d0",
   "outputs": [
    {
     "name": "stdout",
     "output_type": "stream",
     "text": [
      "5\n"
     ]
    }
   ],
   "execution_count": 4
  },
  {
   "metadata": {},
   "cell_type": "markdown",
   "source": "第一个字母大写",
   "id": "f88a35376ea3d7f4"
  },
  {
   "metadata": {
    "ExecuteTime": {
     "end_time": "2024-05-10T12:27:34.788659Z",
     "start_time": "2024-05-10T12:27:34.785661Z"
    }
   },
   "cell_type": "code",
   "source": "print(name.capitalize())",
   "id": "527f73688336c658",
   "outputs": [
    {
     "name": "stdout",
     "output_type": "stream",
     "text": [
      "Helloworld你好世界\n"
     ]
    }
   ],
   "execution_count": 5
  },
  {
   "metadata": {},
   "cell_type": "markdown",
   "source": "大小写转换",
   "id": "5721edc7fa0334b2"
  },
  {
   "metadata": {
    "ExecuteTime": {
     "end_time": "2024-05-10T12:28:53.193444Z",
     "start_time": "2024-05-10T12:28:53.189836Z"
    }
   },
   "cell_type": "code",
   "source": [
    "print(name.upper())\n",
    "print(name.lower())"
   ],
   "id": "5e973eb250ca5b83",
   "outputs": [
    {
     "name": "stdout",
     "output_type": "stream",
     "text": [
      "HELLOWORLD你好世界\n",
      "helloworld你好世界\n"
     ]
    }
   ],
   "execution_count": 6
  },
  {
   "metadata": {},
   "cell_type": "markdown",
   "source": "count方法,计算参数字符串出现的次数",
   "id": "cc714cbead40c527"
  },
  {
   "metadata": {
    "ExecuteTime": {
     "end_time": "2024-05-10T12:31:13.604562Z",
     "start_time": "2024-05-10T12:31:13.601578Z"
    }
   },
   "cell_type": "code",
   "source": [
    "print(name.count(\"w\"))\n",
    "print(name.count(\"l\"))\n",
    "print(name.count(\"world\"))"
   ],
   "id": "fe284edfde872aea",
   "outputs": [
    {
     "name": "stdout",
     "output_type": "stream",
     "text": [
      "1\n",
      "3\n",
      "1\n"
     ]
    }
   ],
   "execution_count": 11
  },
  {
   "metadata": {},
   "cell_type": "markdown",
   "source": "replace方法",
   "id": "df8d1c4c47513a62"
  },
  {
   "metadata": {
    "ExecuteTime": {
     "end_time": "2024-05-10T12:31:52.751499Z",
     "start_time": "2024-05-10T12:31:52.748483Z"
    }
   },
   "cell_type": "code",
   "source": "print(name.replace(\"world\",\"世界\"))",
   "id": "4ea0cc822e8dbc28",
   "outputs": [
    {
     "name": "stdout",
     "output_type": "stream",
     "text": [
      "hello世界你好世界\n"
     ]
    }
   ],
   "execution_count": 12
  },
  {
   "metadata": {},
   "cell_type": "markdown",
   "source": "练习字符串合法性",
   "id": "ef2091bd78bbc995"
  },
  {
   "metadata": {
    "ExecuteTime": {
     "end_time": "2024-05-10T12:36:43.489925Z",
     "start_time": "2024-05-10T12:36:39.878500Z"
    }
   },
   "cell_type": "code",
   "source": [
    "username = input(\"请输入用户名：\")\n",
    "if username.isalpha():\n",
    "    if len(username) > 12:\n",
    "        print(\"用户名长度不能大于12\")\n",
    "    elif username.count(\" \") > 0:\n",
    "        print(\"用户名不能包含空格\")\n",
    "    else:\n",
    "        print(f\"用户名{username}可以使用!!!\")\n",
    "else:\n",
    "    print(\"用户名必须全为字母\")"
   ],
   "id": "a8305cf1ba6bee81",
   "outputs": [
    {
     "name": "stdout",
     "output_type": "stream",
     "text": [
      "用户名haight可以使用!!!\n"
     ]
    }
   ],
   "execution_count": 15
  },
  {
   "metadata": {},
   "cell_type": "markdown",
   "source": "使用索引获取字符串中的字符",
   "id": "ba69a92c3d7a5827"
  },
  {
   "metadata": {
    "ExecuteTime": {
     "end_time": "2024-05-10T12:39:13.730707Z",
     "start_time": "2024-05-10T12:39:13.727197Z"
    }
   },
   "cell_type": "code",
   "source": [
    "print(name[0])\n",
    "print(name[-1])\n",
    "print(name[-2])\n",
    "print(name[0:4])\n",
    "print(name[:4])\n",
    "print(name[4:])\n",
    "print(name[-4:])"
   ],
   "id": "453195743b9be8bb",
   "outputs": [
    {
     "name": "stdout",
     "output_type": "stream",
     "text": [
      "h\n",
      "界\n",
      "世\n",
      "hell\n",
      "hell\n",
      "oworld你好世界\n",
      "你好世界\n"
     ]
    }
   ],
   "execution_count": 20
  },
  {
   "metadata": {},
   "cell_type": "markdown",
   "source": "index 方法",
   "id": "b61aff54f47afefe"
  },
  {
   "metadata": {
    "ExecuteTime": {
     "end_time": "2024-05-10T12:40:12.232438Z",
     "start_time": "2024-05-10T12:40:12.229018Z"
    }
   },
   "cell_type": "code",
   "source": "print(name.index(\"w\"))",
   "id": "a97cbae5db966209",
   "outputs": [
    {
     "name": "stdout",
     "output_type": "stream",
     "text": [
      "5\n"
     ]
    }
   ],
   "execution_count": 21
  },
  {
   "metadata": {},
   "cell_type": "markdown",
   "source": "字符串格式化",
   "id": "9d37cf27023b2915"
  },
  {
   "metadata": {
    "ExecuteTime": {
     "end_time": "2024-05-10T12:41:34.836959Z",
     "start_time": "2024-05-10T12:41:34.833745Z"
    }
   },
   "cell_type": "code",
   "source": [
    "price1 = 3.321\n",
    "price2 = -77\n",
    "price3 = 15.11"
   ],
   "id": "bd1ca89897a3dc93",
   "outputs": [],
   "execution_count": 22
  },
  {
   "metadata": {},
   "cell_type": "markdown",
   "source": "设置小数点的精度",
   "id": "130f3bbccec9012"
  },
  {
   "metadata": {
    "ExecuteTime": {
     "end_time": "2024-05-10T12:45:09.871268Z",
     "start_time": "2024-05-10T12:45:09.867962Z"
    }
   },
   "cell_type": "code",
   "source": [
    "print(f\"价格1为{price1:.2f}\\n\"\n",
    "      f\"价格2为{price2:.2f}\\n\"\n",
    "      f\"价格3为{price3:.2f}\")"
   ],
   "id": "78b5fc5c36a9ca9d",
   "outputs": [
    {
     "name": "stdout",
     "output_type": "stream",
     "text": [
      "价格1为3.32\n",
      "价格2为-77.00\n",
      "价格3为15.11\n"
     ]
    }
   ],
   "execution_count": 29
  },
  {
   "metadata": {},
   "cell_type": "markdown",
   "source": "加上正号或负号",
   "id": "fe83e75f540c10ad"
  },
  {
   "metadata": {
    "ExecuteTime": {
     "end_time": "2024-05-10T12:45:26.783811Z",
     "start_time": "2024-05-10T12:45:26.780444Z"
    }
   },
   "cell_type": "code",
   "source": [
    "print(f\"价格1为{price1:+.2f}\\n\"\n",
    "      f\"价格2为{price2:+.2f}\\n\"\n",
    "      f\"价格3为{price3:+.2f}\")"
   ],
   "id": "21ca55aca3b0bbe2",
   "outputs": [
    {
     "name": "stdout",
     "output_type": "stream",
     "text": [
      "价格1为+3.32\n",
      "价格2为-77.00\n",
      "价格3为+15.11\n"
     ]
    }
   ],
   "execution_count": 30
  },
  {
   "metadata": {},
   "cell_type": "markdown",
   "source": "字符串对齐",
   "id": "bef7298d8c1468f2"
  },
  {
   "metadata": {
    "ExecuteTime": {
     "end_time": "2024-05-10T12:46:40.022618Z",
     "start_time": "2024-05-10T12:46:40.018708Z"
    }
   },
   "cell_type": "code",
   "source": [
    "print(f\"价格1为{price1:<10.2f}\\n\"\n",
    "      f\"价格2为{price2:<10.2f}\\n\"\n",
    "      f\"价格3为{price3:<10.2f}\")"
   ],
   "id": "ba0be5038a4dce06",
   "outputs": [
    {
     "name": "stdout",
     "output_type": "stream",
     "text": [
      "价格1为3.32      \n",
      "价格2为-77.00    \n",
      "价格3为15.11     \n"
     ]
    }
   ],
   "execution_count": 32
  },
  {
   "metadata": {
    "ExecuteTime": {
     "end_time": "2024-05-10T12:46:56.693815Z",
     "start_time": "2024-05-10T12:46:56.690374Z"
    }
   },
   "cell_type": "code",
   "source": [
    "print(f\"价格1为{price1:10.2f}\\n\"\n",
    "      f\"价格2为{price2:10.2f}\\n\"\n",
    "      f\"价格3为{price3:10.2f}\")"
   ],
   "id": "4f516ba961242a2a",
   "outputs": [
    {
     "name": "stdout",
     "output_type": "stream",
     "text": [
      "价格1为      3.32\n",
      "价格2为    -77.00\n",
      "价格3为     15.11\n"
     ]
    }
   ],
   "execution_count": 33
  },
  {
   "metadata": {
    "ExecuteTime": {
     "end_time": "2024-05-10T12:47:15.158336Z",
     "start_time": "2024-05-10T12:47:15.155561Z"
    }
   },
   "cell_type": "code",
   "source": [
    "print(f\"价格1为{price1:>10.2f}\\n\"\n",
    "      f\"价格2为{price2:>10.2f}\\n\"\n",
    "      f\"价格3为{price3:>10.2f}\")"
   ],
   "id": "88cb52d4b5b55709",
   "outputs": [
    {
     "name": "stdout",
     "output_type": "stream",
     "text": [
      "价格1为      3.32\n",
      "价格2为    -77.00\n",
      "价格3为     15.11\n"
     ]
    }
   ],
   "execution_count": 34
  },
  {
   "metadata": {
    "ExecuteTime": {
     "end_time": "2024-05-10T12:47:47.910202Z",
     "start_time": "2024-05-10T12:47:47.906680Z"
    }
   },
   "cell_type": "code",
   "source": [
    "print(f\"价格1为{price1:^10.2f}\\n\"\n",
    "      f\"价格2为{price2:^10.2f}\\n\"\n",
    "      f\"价格3为{price3:^10.2f}\")"
   ],
   "id": "dec3abd8e9abdeb5",
   "outputs": [
    {
     "name": "stdout",
     "output_type": "stream",
     "text": [
      "价格1为   3.32   \n",
      "价格2为  -77.00  \n",
      "价格3为  15.11   \n"
     ]
    }
   ],
   "execution_count": 35
  },
  {
   "metadata": {},
   "cell_type": "code",
   "outputs": [],
   "execution_count": null,
   "source": "",
   "id": "5ae1fb40f79430d2"
  }
 ],
 "metadata": {
  "kernelspec": {
   "display_name": "Python 3",
   "language": "python",
   "name": "python3"
  },
  "language_info": {
   "codemirror_mode": {
    "name": "ipython",
    "version": 2
   },
   "file_extension": ".py",
   "mimetype": "text/x-python",
   "name": "python",
   "nbconvert_exporter": "python",
   "pygments_lexer": "ipython2",
   "version": "2.7.6"
  }
 },
 "nbformat": 4,
 "nbformat_minor": 5
}
