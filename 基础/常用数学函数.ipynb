{
 "cells": [
  {
   "cell_type": "code",
   "id": "initial_id",
   "metadata": {
    "collapsed": true,
    "ExecuteTime": {
     "end_time": "2024-05-10T11:56:36.992186Z",
     "start_time": "2024-05-10T11:56:36.989221Z"
    }
   },
   "source": "import math",
   "outputs": [],
   "execution_count": 7
  },
  {
   "metadata": {},
   "cell_type": "markdown",
   "source": [
    "- round 四舍五入\n",
    "- ceil 无条件进位\n",
    "- floor 无条件舍去 "
   ],
   "id": "21e00c2a5e68da5d"
  },
  {
   "metadata": {
    "ExecuteTime": {
     "end_time": "2024-05-10T11:56:36.996534Z",
     "start_time": "2024-05-10T11:56:36.993191Z"
    }
   },
   "cell_type": "code",
   "source": [
    "x = 9.5\n",
    "print(round(x))\n",
    "print(math.ceil(x))\n",
    "print(math.floor(x))"
   ],
   "id": "e03e5b5fd6d9e1a",
   "outputs": [
    {
     "name": "stdout",
     "output_type": "stream",
     "text": [
      "10\n",
      "10\n",
      "9\n"
     ]
    }
   ],
   "execution_count": 8
  },
  {
   "metadata": {},
   "cell_type": "markdown",
   "source": "圆周率",
   "id": "8c5b3df8f7bd3b8f"
  },
  {
   "metadata": {
    "ExecuteTime": {
     "end_time": "2024-05-10T11:56:37.001271Z",
     "start_time": "2024-05-10T11:56:36.997540Z"
    }
   },
   "cell_type": "code",
   "source": "print(math.pi)",
   "id": "8934eda66d0d37ed",
   "outputs": [
    {
     "name": "stdout",
     "output_type": "stream",
     "text": [
      "3.141592653589793\n"
     ]
    }
   ],
   "execution_count": 9
  }
 ],
 "metadata": {
  "kernelspec": {
   "display_name": "Python 3",
   "language": "python",
   "name": "python3"
  },
  "language_info": {
   "codemirror_mode": {
    "name": "ipython",
    "version": 2
   },
   "file_extension": ".py",
   "mimetype": "text/x-python",
   "name": "python",
   "nbconvert_exporter": "python",
   "pygments_lexer": "ipython2",
   "version": "2.7.6"
  }
 },
 "nbformat": 4,
 "nbformat_minor": 5
}
